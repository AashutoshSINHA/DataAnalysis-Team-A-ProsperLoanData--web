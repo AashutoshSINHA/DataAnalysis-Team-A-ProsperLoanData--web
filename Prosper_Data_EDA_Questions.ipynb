{
  "cells": [
    {
      "cell_type": "markdown",
      "metadata": {
        "id": "Qb6raW8gDwtt"
      },
      "source": [
        "**Introduction**"
      ]
    },
    {
      "cell_type": "markdown",
      "metadata": {
        "id": "9wSmGXuKDzJW"
      },
      "source": [
        "1. This data set contains 113,937 loans with 81 variables on each loan, including loan amount, borrower rate (or interest rate), current loan status, borrower income, and many others."
      ]
    },
    {
      "cell_type": "markdown",
      "metadata": {
        "id": "VxoOlLIfD1fx"
      },
      "source": [
        "2. The most critical tool in a P2P lending organization is its ability to\n",
        "assess a borrower’s creditworthiness as accurate as possible. Here, I\n",
        "am going to asses the tools used and to see if it is accurate in determining a person’s creditworthiness mainly Credit Grade and Prosper\n",
        "Score"
      ]
    },
    {
      "cell_type": "markdown",
      "metadata": {
        "id": "XhGF0Cr8D9nz"
      },
      "source": [
        "Action: **presentation three main focuses are on the most critical part of Peer-to-Peer Lending which is CreditGrade , BorrowerRate and Lender Yield not to mention the custom built risk assesment tool called ProsperScore to assess the creditworthiness of the borrower.**"
      ]
    },
    {
      "cell_type": "code",
      "execution_count": 10,
      "metadata": {
        "id": "38oeXjhzfqBI"
      },
      "outputs": [],
      "source": [
        "import pandas as pd\n",
        "import numpy as np\n",
        "import matplotlib.pyplot as plt\n",
        "%matplotlib inline\n",
        "import seaborn as sns \n",
        "import seaborn as sb\n",
        "import matplotlib.pyplot as plt\n",
        "from scipy import stats"
      ]
    },
    {
      "cell_type": "code",
      "execution_count": 14,
      "metadata": {
        "colab": {
          "base_uri": "https://localhost:8080/",
          "height": 696
        },
        "id": "HHq2JQ8-fo6P",
        "outputId": "4291e8bf-18a8-4860-ecc7-4f7facc83866"
      },
      "outputs": [
        {
          "ename": "FileNotFoundError",
          "evalue": "[Errno 2] No such file or directory: 'prosperLoanData.csv'",
          "output_type": "error",
          "traceback": [
            "\u001b[1;31m---------------------------------------------------------------------------\u001b[0m",
            "\u001b[1;31mFileNotFoundError\u001b[0m                         Traceback (most recent call last)",
            "\u001b[1;32mc:\\Users\\Aashutosh Sinha\\OneDrive\\Desktop\\3rd-Year\\WRL\\EDA_Presentation\\Prosper_Data_EDA_Questions.ipynb Cell 6\u001b[0m in \u001b[0;36m<cell line: 1>\u001b[1;34m()\u001b[0m\n\u001b[1;32m----> <a href='vscode-notebook-cell:/c%3A/Users/Aashutosh%20Sinha/OneDrive/Desktop/3rd-Year/WRL/EDA_Presentation/Prosper_Data_EDA_Questions.ipynb#W5sZmlsZQ%3D%3D?line=0'>1</a>\u001b[0m df \u001b[39m=\u001b[39m pd\u001b[39m.\u001b[39;49mread_csv(\u001b[39m'\u001b[39;49m\u001b[39mprosperLoanData.csv\u001b[39;49m\u001b[39m'\u001b[39;49m)\n\u001b[0;32m      <a href='vscode-notebook-cell:/c%3A/Users/Aashutosh%20Sinha/OneDrive/Desktop/3rd-Year/WRL/EDA_Presentation/Prosper_Data_EDA_Questions.ipynb#W5sZmlsZQ%3D%3D?line=1'>2</a>\u001b[0m df\n",
            "File \u001b[1;32mc:\\Anaconda\\lib\\site-packages\\pandas\\util\\_decorators.py:311\u001b[0m, in \u001b[0;36mdeprecate_nonkeyword_arguments.<locals>.decorate.<locals>.wrapper\u001b[1;34m(*args, **kwargs)\u001b[0m\n\u001b[0;32m    305\u001b[0m \u001b[39mif\u001b[39;00m \u001b[39mlen\u001b[39m(args) \u001b[39m>\u001b[39m num_allow_args:\n\u001b[0;32m    306\u001b[0m     warnings\u001b[39m.\u001b[39mwarn(\n\u001b[0;32m    307\u001b[0m         msg\u001b[39m.\u001b[39mformat(arguments\u001b[39m=\u001b[39marguments),\n\u001b[0;32m    308\u001b[0m         \u001b[39mFutureWarning\u001b[39;00m,\n\u001b[0;32m    309\u001b[0m         stacklevel\u001b[39m=\u001b[39mstacklevel,\n\u001b[0;32m    310\u001b[0m     )\n\u001b[1;32m--> 311\u001b[0m \u001b[39mreturn\u001b[39;00m func(\u001b[39m*\u001b[39margs, \u001b[39m*\u001b[39m\u001b[39m*\u001b[39mkwargs)\n",
            "File \u001b[1;32mc:\\Anaconda\\lib\\site-packages\\pandas\\io\\parsers\\readers.py:680\u001b[0m, in \u001b[0;36mread_csv\u001b[1;34m(filepath_or_buffer, sep, delimiter, header, names, index_col, usecols, squeeze, prefix, mangle_dupe_cols, dtype, engine, converters, true_values, false_values, skipinitialspace, skiprows, skipfooter, nrows, na_values, keep_default_na, na_filter, verbose, skip_blank_lines, parse_dates, infer_datetime_format, keep_date_col, date_parser, dayfirst, cache_dates, iterator, chunksize, compression, thousands, decimal, lineterminator, quotechar, quoting, doublequote, escapechar, comment, encoding, encoding_errors, dialect, error_bad_lines, warn_bad_lines, on_bad_lines, delim_whitespace, low_memory, memory_map, float_precision, storage_options)\u001b[0m\n\u001b[0;32m    665\u001b[0m kwds_defaults \u001b[39m=\u001b[39m _refine_defaults_read(\n\u001b[0;32m    666\u001b[0m     dialect,\n\u001b[0;32m    667\u001b[0m     delimiter,\n\u001b[1;32m   (...)\u001b[0m\n\u001b[0;32m    676\u001b[0m     defaults\u001b[39m=\u001b[39m{\u001b[39m\"\u001b[39m\u001b[39mdelimiter\u001b[39m\u001b[39m\"\u001b[39m: \u001b[39m\"\u001b[39m\u001b[39m,\u001b[39m\u001b[39m\"\u001b[39m},\n\u001b[0;32m    677\u001b[0m )\n\u001b[0;32m    678\u001b[0m kwds\u001b[39m.\u001b[39mupdate(kwds_defaults)\n\u001b[1;32m--> 680\u001b[0m \u001b[39mreturn\u001b[39;00m _read(filepath_or_buffer, kwds)\n",
            "File \u001b[1;32mc:\\Anaconda\\lib\\site-packages\\pandas\\io\\parsers\\readers.py:575\u001b[0m, in \u001b[0;36m_read\u001b[1;34m(filepath_or_buffer, kwds)\u001b[0m\n\u001b[0;32m    572\u001b[0m _validate_names(kwds\u001b[39m.\u001b[39mget(\u001b[39m\"\u001b[39m\u001b[39mnames\u001b[39m\u001b[39m\"\u001b[39m, \u001b[39mNone\u001b[39;00m))\n\u001b[0;32m    574\u001b[0m \u001b[39m# Create the parser.\u001b[39;00m\n\u001b[1;32m--> 575\u001b[0m parser \u001b[39m=\u001b[39m TextFileReader(filepath_or_buffer, \u001b[39m*\u001b[39m\u001b[39m*\u001b[39mkwds)\n\u001b[0;32m    577\u001b[0m \u001b[39mif\u001b[39;00m chunksize \u001b[39mor\u001b[39;00m iterator:\n\u001b[0;32m    578\u001b[0m     \u001b[39mreturn\u001b[39;00m parser\n",
            "File \u001b[1;32mc:\\Anaconda\\lib\\site-packages\\pandas\\io\\parsers\\readers.py:933\u001b[0m, in \u001b[0;36mTextFileReader.__init__\u001b[1;34m(self, f, engine, **kwds)\u001b[0m\n\u001b[0;32m    930\u001b[0m     \u001b[39mself\u001b[39m\u001b[39m.\u001b[39moptions[\u001b[39m\"\u001b[39m\u001b[39mhas_index_names\u001b[39m\u001b[39m\"\u001b[39m] \u001b[39m=\u001b[39m kwds[\u001b[39m\"\u001b[39m\u001b[39mhas_index_names\u001b[39m\u001b[39m\"\u001b[39m]\n\u001b[0;32m    932\u001b[0m \u001b[39mself\u001b[39m\u001b[39m.\u001b[39mhandles: IOHandles \u001b[39m|\u001b[39m \u001b[39mNone\u001b[39;00m \u001b[39m=\u001b[39m \u001b[39mNone\u001b[39;00m\n\u001b[1;32m--> 933\u001b[0m \u001b[39mself\u001b[39m\u001b[39m.\u001b[39m_engine \u001b[39m=\u001b[39m \u001b[39mself\u001b[39;49m\u001b[39m.\u001b[39;49m_make_engine(f, \u001b[39mself\u001b[39;49m\u001b[39m.\u001b[39;49mengine)\n",
            "File \u001b[1;32mc:\\Anaconda\\lib\\site-packages\\pandas\\io\\parsers\\readers.py:1217\u001b[0m, in \u001b[0;36mTextFileReader._make_engine\u001b[1;34m(self, f, engine)\u001b[0m\n\u001b[0;32m   1213\u001b[0m     mode \u001b[39m=\u001b[39m \u001b[39m\"\u001b[39m\u001b[39mrb\u001b[39m\u001b[39m\"\u001b[39m\n\u001b[0;32m   1214\u001b[0m \u001b[39m# error: No overload variant of \"get_handle\" matches argument types\u001b[39;00m\n\u001b[0;32m   1215\u001b[0m \u001b[39m# \"Union[str, PathLike[str], ReadCsvBuffer[bytes], ReadCsvBuffer[str]]\"\u001b[39;00m\n\u001b[0;32m   1216\u001b[0m \u001b[39m# , \"str\", \"bool\", \"Any\", \"Any\", \"Any\", \"Any\", \"Any\"\u001b[39;00m\n\u001b[1;32m-> 1217\u001b[0m \u001b[39mself\u001b[39m\u001b[39m.\u001b[39mhandles \u001b[39m=\u001b[39m get_handle(  \u001b[39m# type: ignore[call-overload]\u001b[39;49;00m\n\u001b[0;32m   1218\u001b[0m     f,\n\u001b[0;32m   1219\u001b[0m     mode,\n\u001b[0;32m   1220\u001b[0m     encoding\u001b[39m=\u001b[39;49m\u001b[39mself\u001b[39;49m\u001b[39m.\u001b[39;49moptions\u001b[39m.\u001b[39;49mget(\u001b[39m\"\u001b[39;49m\u001b[39mencoding\u001b[39;49m\u001b[39m\"\u001b[39;49m, \u001b[39mNone\u001b[39;49;00m),\n\u001b[0;32m   1221\u001b[0m     compression\u001b[39m=\u001b[39;49m\u001b[39mself\u001b[39;49m\u001b[39m.\u001b[39;49moptions\u001b[39m.\u001b[39;49mget(\u001b[39m\"\u001b[39;49m\u001b[39mcompression\u001b[39;49m\u001b[39m\"\u001b[39;49m, \u001b[39mNone\u001b[39;49;00m),\n\u001b[0;32m   1222\u001b[0m     memory_map\u001b[39m=\u001b[39;49m\u001b[39mself\u001b[39;49m\u001b[39m.\u001b[39;49moptions\u001b[39m.\u001b[39;49mget(\u001b[39m\"\u001b[39;49m\u001b[39mmemory_map\u001b[39;49m\u001b[39m\"\u001b[39;49m, \u001b[39mFalse\u001b[39;49;00m),\n\u001b[0;32m   1223\u001b[0m     is_text\u001b[39m=\u001b[39;49mis_text,\n\u001b[0;32m   1224\u001b[0m     errors\u001b[39m=\u001b[39;49m\u001b[39mself\u001b[39;49m\u001b[39m.\u001b[39;49moptions\u001b[39m.\u001b[39;49mget(\u001b[39m\"\u001b[39;49m\u001b[39mencoding_errors\u001b[39;49m\u001b[39m\"\u001b[39;49m, \u001b[39m\"\u001b[39;49m\u001b[39mstrict\u001b[39;49m\u001b[39m\"\u001b[39;49m),\n\u001b[0;32m   1225\u001b[0m     storage_options\u001b[39m=\u001b[39;49m\u001b[39mself\u001b[39;49m\u001b[39m.\u001b[39;49moptions\u001b[39m.\u001b[39;49mget(\u001b[39m\"\u001b[39;49m\u001b[39mstorage_options\u001b[39;49m\u001b[39m\"\u001b[39;49m, \u001b[39mNone\u001b[39;49;00m),\n\u001b[0;32m   1226\u001b[0m )\n\u001b[0;32m   1227\u001b[0m \u001b[39massert\u001b[39;00m \u001b[39mself\u001b[39m\u001b[39m.\u001b[39mhandles \u001b[39mis\u001b[39;00m \u001b[39mnot\u001b[39;00m \u001b[39mNone\u001b[39;00m\n\u001b[0;32m   1228\u001b[0m f \u001b[39m=\u001b[39m \u001b[39mself\u001b[39m\u001b[39m.\u001b[39mhandles\u001b[39m.\u001b[39mhandle\n",
            "File \u001b[1;32mc:\\Anaconda\\lib\\site-packages\\pandas\\io\\common.py:789\u001b[0m, in \u001b[0;36mget_handle\u001b[1;34m(path_or_buf, mode, encoding, compression, memory_map, is_text, errors, storage_options)\u001b[0m\n\u001b[0;32m    784\u001b[0m \u001b[39melif\u001b[39;00m \u001b[39misinstance\u001b[39m(handle, \u001b[39mstr\u001b[39m):\n\u001b[0;32m    785\u001b[0m     \u001b[39m# Check whether the filename is to be opened in binary mode.\u001b[39;00m\n\u001b[0;32m    786\u001b[0m     \u001b[39m# Binary mode does not support 'encoding' and 'newline'.\u001b[39;00m\n\u001b[0;32m    787\u001b[0m     \u001b[39mif\u001b[39;00m ioargs\u001b[39m.\u001b[39mencoding \u001b[39mand\u001b[39;00m \u001b[39m\"\u001b[39m\u001b[39mb\u001b[39m\u001b[39m\"\u001b[39m \u001b[39mnot\u001b[39;00m \u001b[39min\u001b[39;00m ioargs\u001b[39m.\u001b[39mmode:\n\u001b[0;32m    788\u001b[0m         \u001b[39m# Encoding\u001b[39;00m\n\u001b[1;32m--> 789\u001b[0m         handle \u001b[39m=\u001b[39m \u001b[39mopen\u001b[39;49m(\n\u001b[0;32m    790\u001b[0m             handle,\n\u001b[0;32m    791\u001b[0m             ioargs\u001b[39m.\u001b[39;49mmode,\n\u001b[0;32m    792\u001b[0m             encoding\u001b[39m=\u001b[39;49mioargs\u001b[39m.\u001b[39;49mencoding,\n\u001b[0;32m    793\u001b[0m             errors\u001b[39m=\u001b[39;49merrors,\n\u001b[0;32m    794\u001b[0m             newline\u001b[39m=\u001b[39;49m\u001b[39m\"\u001b[39;49m\u001b[39m\"\u001b[39;49m,\n\u001b[0;32m    795\u001b[0m         )\n\u001b[0;32m    796\u001b[0m     \u001b[39melse\u001b[39;00m:\n\u001b[0;32m    797\u001b[0m         \u001b[39m# Binary mode\u001b[39;00m\n\u001b[0;32m    798\u001b[0m         handle \u001b[39m=\u001b[39m \u001b[39mopen\u001b[39m(handle, ioargs\u001b[39m.\u001b[39mmode)\n",
            "\u001b[1;31mFileNotFoundError\u001b[0m: [Errno 2] No such file or directory: 'prosperLoanData.csv'"
          ]
        }
      ],
      "source": [
        "df = pd.read_csv('prosperLoanData.csv')\n",
        "df"
      ]
    },
    {
      "cell_type": "code",
      "execution_count": null,
      "metadata": {
        "colab": {
          "base_uri": "https://localhost:8080/",
          "height": 411
        },
        "id": "QnzU5RFyfopB",
        "outputId": "980d6345-1f85-47e0-c990-fd4f5858a8e6"
      },
      "outputs": [
        {
          "data": {
            "text/html": [
              "\n",
              "  <div id=\"df-b28d083f-a8c6-42fb-9bc0-8ee665a4a9b9\">\n",
              "    <div class=\"colab-df-container\">\n",
              "      <div>\n",
              "<style scoped>\n",
              "    .dataframe tbody tr th:only-of-type {\n",
              "        vertical-align: middle;\n",
              "    }\n",
              "\n",
              "    .dataframe tbody tr th {\n",
              "        vertical-align: top;\n",
              "    }\n",
              "\n",
              "    .dataframe thead th {\n",
              "        text-align: right;\n",
              "    }\n",
              "</style>\n",
              "<table border=\"1\" class=\"dataframe\">\n",
              "  <thead>\n",
              "    <tr style=\"text-align: right;\">\n",
              "      <th></th>\n",
              "      <th>ListingNumber</th>\n",
              "      <th>Term</th>\n",
              "      <th>BorrowerAPR</th>\n",
              "      <th>BorrowerRate</th>\n",
              "      <th>LenderYield</th>\n",
              "      <th>EstimatedEffectiveYield</th>\n",
              "      <th>EstimatedLoss</th>\n",
              "      <th>EstimatedReturn</th>\n",
              "      <th>ProsperRating (numeric)</th>\n",
              "      <th>ProsperScore</th>\n",
              "      <th>...</th>\n",
              "      <th>LP_ServiceFees</th>\n",
              "      <th>LP_CollectionFees</th>\n",
              "      <th>LP_GrossPrincipalLoss</th>\n",
              "      <th>LP_NetPrincipalLoss</th>\n",
              "      <th>LP_NonPrincipalRecoverypayments</th>\n",
              "      <th>PercentFunded</th>\n",
              "      <th>Recommendations</th>\n",
              "      <th>InvestmentFromFriendsCount</th>\n",
              "      <th>InvestmentFromFriendsAmount</th>\n",
              "      <th>Investors</th>\n",
              "    </tr>\n",
              "  </thead>\n",
              "  <tbody>\n",
              "    <tr>\n",
              "      <th>count</th>\n",
              "      <td>1.934500e+04</td>\n",
              "      <td>19345.000000</td>\n",
              "      <td>19343.000000</td>\n",
              "      <td>19345.000000</td>\n",
              "      <td>19345.000000</td>\n",
              "      <td>14406.000000</td>\n",
              "      <td>14406.000000</td>\n",
              "      <td>14406.000000</td>\n",
              "      <td>14406.000000</td>\n",
              "      <td>14406.000000</td>\n",
              "      <td>...</td>\n",
              "      <td>19344.000000</td>\n",
              "      <td>19344.000000</td>\n",
              "      <td>19344.000000</td>\n",
              "      <td>19344.000000</td>\n",
              "      <td>19344.000000</td>\n",
              "      <td>19344.000000</td>\n",
              "      <td>19344.000000</td>\n",
              "      <td>19344.000000</td>\n",
              "      <td>19344.000000</td>\n",
              "      <td>19344.000000</td>\n",
              "    </tr>\n",
              "    <tr>\n",
              "      <th>mean</th>\n",
              "      <td>6.306069e+05</td>\n",
              "      <td>40.870716</td>\n",
              "      <td>0.218193</td>\n",
              "      <td>0.192109</td>\n",
              "      <td>0.182047</td>\n",
              "      <td>0.168648</td>\n",
              "      <td>0.080054</td>\n",
              "      <td>0.095935</td>\n",
              "      <td>4.081147</td>\n",
              "      <td>5.939470</td>\n",
              "      <td>...</td>\n",
              "      <td>-54.791634</td>\n",
              "      <td>-14.839528</td>\n",
              "      <td>700.761674</td>\n",
              "      <td>679.670133</td>\n",
              "      <td>25.261445</td>\n",
              "      <td>0.998602</td>\n",
              "      <td>0.048490</td>\n",
              "      <td>0.024711</td>\n",
              "      <td>17.037183</td>\n",
              "      <td>80.299214</td>\n",
              "    </tr>\n",
              "    <tr>\n",
              "      <th>std</th>\n",
              "      <td>3.276004e+05</td>\n",
              "      <td>10.415533</td>\n",
              "      <td>0.080078</td>\n",
              "      <td>0.074584</td>\n",
              "      <td>0.074277</td>\n",
              "      <td>0.068039</td>\n",
              "      <td>0.046609</td>\n",
              "      <td>0.030152</td>\n",
              "      <td>1.663336</td>\n",
              "      <td>2.352445</td>\n",
              "      <td>...</td>\n",
              "      <td>61.343571</td>\n",
              "      <td>128.903607</td>\n",
              "      <td>2374.415710</td>\n",
              "      <td>2343.839031</td>\n",
              "      <td>290.806147</td>\n",
              "      <td>0.017791</td>\n",
              "      <td>0.439513</td>\n",
              "      <td>0.347381</td>\n",
              "      <td>320.455263</td>\n",
              "      <td>103.573892</td>\n",
              "    </tr>\n",
              "    <tr>\n",
              "      <th>min</th>\n",
              "      <td>3.600000e+01</td>\n",
              "      <td>12.000000</td>\n",
              "      <td>0.016570</td>\n",
              "      <td>0.010000</td>\n",
              "      <td>0.000000</td>\n",
              "      <td>-0.177300</td>\n",
              "      <td>0.004900</td>\n",
              "      <td>-0.177300</td>\n",
              "      <td>1.000000</td>\n",
              "      <td>1.000000</td>\n",
              "      <td>...</td>\n",
              "      <td>-553.880000</td>\n",
              "      <td>-9274.750000</td>\n",
              "      <td>0.000000</td>\n",
              "      <td>-137.620000</td>\n",
              "      <td>0.000000</td>\n",
              "      <td>0.700500</td>\n",
              "      <td>0.000000</td>\n",
              "      <td>0.000000</td>\n",
              "      <td>0.000000</td>\n",
              "      <td>1.000000</td>\n",
              "    </tr>\n",
              "    <tr>\n",
              "      <th>25%</th>\n",
              "      <td>4.012780e+05</td>\n",
              "      <td>36.000000</td>\n",
              "      <td>0.156290</td>\n",
              "      <td>0.133400</td>\n",
              "      <td>0.123400</td>\n",
              "      <td>0.117800</td>\n",
              "      <td>0.042400</td>\n",
              "      <td>0.074607</td>\n",
              "      <td>3.000000</td>\n",
              "      <td>4.000000</td>\n",
              "      <td>...</td>\n",
              "      <td>-72.990000</td>\n",
              "      <td>0.000000</td>\n",
              "      <td>0.000000</td>\n",
              "      <td>0.000000</td>\n",
              "      <td>0.000000</td>\n",
              "      <td>1.000000</td>\n",
              "      <td>0.000000</td>\n",
              "      <td>0.000000</td>\n",
              "      <td>0.000000</td>\n",
              "      <td>2.000000</td>\n",
              "    </tr>\n",
              "    <tr>\n",
              "      <th>50%</th>\n",
              "      <td>6.040570e+05</td>\n",
              "      <td>36.000000</td>\n",
              "      <td>0.207350</td>\n",
              "      <td>0.181900</td>\n",
              "      <td>0.171900</td>\n",
              "      <td>0.161500</td>\n",
              "      <td>0.069900</td>\n",
              "      <td>0.091100</td>\n",
              "      <td>4.000000</td>\n",
              "      <td>6.000000</td>\n",
              "      <td>...</td>\n",
              "      <td>-33.970000</td>\n",
              "      <td>0.000000</td>\n",
              "      <td>0.000000</td>\n",
              "      <td>0.000000</td>\n",
              "      <td>0.000000</td>\n",
              "      <td>1.000000</td>\n",
              "      <td>0.000000</td>\n",
              "      <td>0.000000</td>\n",
              "      <td>0.000000</td>\n",
              "      <td>43.000000</td>\n",
              "    </tr>\n",
              "    <tr>\n",
              "      <th>75%</th>\n",
              "      <td>8.980520e+05</td>\n",
              "      <td>36.000000</td>\n",
              "      <td>0.282765</td>\n",
              "      <td>0.249900</td>\n",
              "      <td>0.239900</td>\n",
              "      <td>0.223520</td>\n",
              "      <td>0.112000</td>\n",
              "      <td>0.115800</td>\n",
              "      <td>5.000000</td>\n",
              "      <td>8.000000</td>\n",
              "      <td>...</td>\n",
              "      <td>-13.497500</td>\n",
              "      <td>0.000000</td>\n",
              "      <td>0.000000</td>\n",
              "      <td>0.000000</td>\n",
              "      <td>0.000000</td>\n",
              "      <td>1.000000</td>\n",
              "      <td>0.000000</td>\n",
              "      <td>0.000000</td>\n",
              "      <td>0.000000</td>\n",
              "      <td>115.000000</td>\n",
              "    </tr>\n",
              "    <tr>\n",
              "      <th>max</th>\n",
              "      <td>1.255725e+06</td>\n",
              "      <td>60.000000</td>\n",
              "      <td>0.458570</td>\n",
              "      <td>0.450000</td>\n",
              "      <td>0.432500</td>\n",
              "      <td>0.319900</td>\n",
              "      <td>0.366000</td>\n",
              "      <td>0.257000</td>\n",
              "      <td>7.000000</td>\n",
              "      <td>11.000000</td>\n",
              "      <td>...</td>\n",
              "      <td>9.810000</td>\n",
              "      <td>0.000000</td>\n",
              "      <td>25000.000000</td>\n",
              "      <td>25000.000000</td>\n",
              "      <td>21117.900000</td>\n",
              "      <td>1.004500</td>\n",
              "      <td>39.000000</td>\n",
              "      <td>33.000000</td>\n",
              "      <td>23699.520000</td>\n",
              "      <td>917.000000</td>\n",
              "    </tr>\n",
              "  </tbody>\n",
              "</table>\n",
              "<p>8 rows × 61 columns</p>\n",
              "</div>\n",
              "      <button class=\"colab-df-convert\" onclick=\"convertToInteractive('df-b28d083f-a8c6-42fb-9bc0-8ee665a4a9b9')\"\n",
              "              title=\"Convert this dataframe to an interactive table.\"\n",
              "              style=\"display:none;\">\n",
              "        \n",
              "  <svg xmlns=\"http://www.w3.org/2000/svg\" height=\"24px\"viewBox=\"0 0 24 24\"\n",
              "       width=\"24px\">\n",
              "    <path d=\"M0 0h24v24H0V0z\" fill=\"none\"/>\n",
              "    <path d=\"M18.56 5.44l.94 2.06.94-2.06 2.06-.94-2.06-.94-.94-2.06-.94 2.06-2.06.94zm-11 1L8.5 8.5l.94-2.06 2.06-.94-2.06-.94L8.5 2.5l-.94 2.06-2.06.94zm10 10l.94 2.06.94-2.06 2.06-.94-2.06-.94-.94-2.06-.94 2.06-2.06.94z\"/><path d=\"M17.41 7.96l-1.37-1.37c-.4-.4-.92-.59-1.43-.59-.52 0-1.04.2-1.43.59L10.3 9.45l-7.72 7.72c-.78.78-.78 2.05 0 2.83L4 21.41c.39.39.9.59 1.41.59.51 0 1.02-.2 1.41-.59l7.78-7.78 2.81-2.81c.8-.78.8-2.07 0-2.86zM5.41 20L4 18.59l7.72-7.72 1.47 1.35L5.41 20z\"/>\n",
              "  </svg>\n",
              "      </button>\n",
              "      \n",
              "  <style>\n",
              "    .colab-df-container {\n",
              "      display:flex;\n",
              "      flex-wrap:wrap;\n",
              "      gap: 12px;\n",
              "    }\n",
              "\n",
              "    .colab-df-convert {\n",
              "      background-color: #E8F0FE;\n",
              "      border: none;\n",
              "      border-radius: 50%;\n",
              "      cursor: pointer;\n",
              "      display: none;\n",
              "      fill: #1967D2;\n",
              "      height: 32px;\n",
              "      padding: 0 0 0 0;\n",
              "      width: 32px;\n",
              "    }\n",
              "\n",
              "    .colab-df-convert:hover {\n",
              "      background-color: #E2EBFA;\n",
              "      box-shadow: 0px 1px 2px rgba(60, 64, 67, 0.3), 0px 1px 3px 1px rgba(60, 64, 67, 0.15);\n",
              "      fill: #174EA6;\n",
              "    }\n",
              "\n",
              "    [theme=dark] .colab-df-convert {\n",
              "      background-color: #3B4455;\n",
              "      fill: #D2E3FC;\n",
              "    }\n",
              "\n",
              "    [theme=dark] .colab-df-convert:hover {\n",
              "      background-color: #434B5C;\n",
              "      box-shadow: 0px 1px 3px 1px rgba(0, 0, 0, 0.15);\n",
              "      filter: drop-shadow(0px 1px 2px rgba(0, 0, 0, 0.3));\n",
              "      fill: #FFFFFF;\n",
              "    }\n",
              "  </style>\n",
              "\n",
              "      <script>\n",
              "        const buttonEl =\n",
              "          document.querySelector('#df-b28d083f-a8c6-42fb-9bc0-8ee665a4a9b9 button.colab-df-convert');\n",
              "        buttonEl.style.display =\n",
              "          google.colab.kernel.accessAllowed ? 'block' : 'none';\n",
              "\n",
              "        async function convertToInteractive(key) {\n",
              "          const element = document.querySelector('#df-b28d083f-a8c6-42fb-9bc0-8ee665a4a9b9');\n",
              "          const dataTable =\n",
              "            await google.colab.kernel.invokeFunction('convertToInteractive',\n",
              "                                                     [key], {});\n",
              "          if (!dataTable) return;\n",
              "\n",
              "          const docLinkHtml = 'Like what you see? Visit the ' +\n",
              "            '<a target=\"_blank\" href=https://colab.research.google.com/notebooks/data_table.ipynb>data table notebook</a>'\n",
              "            + ' to learn more about interactive tables.';\n",
              "          element.innerHTML = '';\n",
              "          dataTable['output_type'] = 'display_data';\n",
              "          await google.colab.output.renderOutput(dataTable, element);\n",
              "          const docLink = document.createElement('div');\n",
              "          docLink.innerHTML = docLinkHtml;\n",
              "          element.appendChild(docLink);\n",
              "        }\n",
              "      </script>\n",
              "    </div>\n",
              "  </div>\n",
              "  "
            ],
            "text/plain": [
              "       ListingNumber          Term   BorrowerAPR  BorrowerRate   LenderYield  \\\n",
              "count   1.934500e+04  19345.000000  19343.000000  19345.000000  19345.000000   \n",
              "mean    6.306069e+05     40.870716      0.218193      0.192109      0.182047   \n",
              "std     3.276004e+05     10.415533      0.080078      0.074584      0.074277   \n",
              "min     3.600000e+01     12.000000      0.016570      0.010000      0.000000   \n",
              "25%     4.012780e+05     36.000000      0.156290      0.133400      0.123400   \n",
              "50%     6.040570e+05     36.000000      0.207350      0.181900      0.171900   \n",
              "75%     8.980520e+05     36.000000      0.282765      0.249900      0.239900   \n",
              "max     1.255725e+06     60.000000      0.458570      0.450000      0.432500   \n",
              "\n",
              "       EstimatedEffectiveYield  EstimatedLoss  EstimatedReturn  \\\n",
              "count             14406.000000   14406.000000     14406.000000   \n",
              "mean                  0.168648       0.080054         0.095935   \n",
              "std                   0.068039       0.046609         0.030152   \n",
              "min                  -0.177300       0.004900        -0.177300   \n",
              "25%                   0.117800       0.042400         0.074607   \n",
              "50%                   0.161500       0.069900         0.091100   \n",
              "75%                   0.223520       0.112000         0.115800   \n",
              "max                   0.319900       0.366000         0.257000   \n",
              "\n",
              "       ProsperRating (numeric)  ProsperScore  ...  LP_ServiceFees  \\\n",
              "count             14406.000000  14406.000000  ...    19344.000000   \n",
              "mean                  4.081147      5.939470  ...      -54.791634   \n",
              "std                   1.663336      2.352445  ...       61.343571   \n",
              "min                   1.000000      1.000000  ...     -553.880000   \n",
              "25%                   3.000000      4.000000  ...      -72.990000   \n",
              "50%                   4.000000      6.000000  ...      -33.970000   \n",
              "75%                   5.000000      8.000000  ...      -13.497500   \n",
              "max                   7.000000     11.000000  ...        9.810000   \n",
              "\n",
              "       LP_CollectionFees  LP_GrossPrincipalLoss  LP_NetPrincipalLoss  \\\n",
              "count       19344.000000           19344.000000         19344.000000   \n",
              "mean          -14.839528             700.761674           679.670133   \n",
              "std           128.903607            2374.415710          2343.839031   \n",
              "min         -9274.750000               0.000000          -137.620000   \n",
              "25%             0.000000               0.000000             0.000000   \n",
              "50%             0.000000               0.000000             0.000000   \n",
              "75%             0.000000               0.000000             0.000000   \n",
              "max             0.000000           25000.000000         25000.000000   \n",
              "\n",
              "       LP_NonPrincipalRecoverypayments  PercentFunded  Recommendations  \\\n",
              "count                     19344.000000   19344.000000     19344.000000   \n",
              "mean                         25.261445       0.998602         0.048490   \n",
              "std                         290.806147       0.017791         0.439513   \n",
              "min                           0.000000       0.700500         0.000000   \n",
              "25%                           0.000000       1.000000         0.000000   \n",
              "50%                           0.000000       1.000000         0.000000   \n",
              "75%                           0.000000       1.000000         0.000000   \n",
              "max                       21117.900000       1.004500        39.000000   \n",
              "\n",
              "       InvestmentFromFriendsCount  InvestmentFromFriendsAmount     Investors  \n",
              "count                19344.000000                 19344.000000  19344.000000  \n",
              "mean                     0.024711                    17.037183     80.299214  \n",
              "std                      0.347381                   320.455263    103.573892  \n",
              "min                      0.000000                     0.000000      1.000000  \n",
              "25%                      0.000000                     0.000000      2.000000  \n",
              "50%                      0.000000                     0.000000     43.000000  \n",
              "75%                      0.000000                     0.000000    115.000000  \n",
              "max                     33.000000                 23699.520000    917.000000  \n",
              "\n",
              "[8 rows x 61 columns]"
            ]
          },
          "execution_count": 12,
          "metadata": {},
          "output_type": "execute_result"
        }
      ],
      "source": [
        "df.describe()"
      ]
    },
    {
      "cell_type": "code",
      "execution_count": null,
      "metadata": {
        "colab": {
          "base_uri": "https://localhost:8080/",
          "height": 386
        },
        "id": "7p8cSyPqgzp4",
        "outputId": "493e6a23-6458-4f75-a0c0-600a0d7e9e72"
      },
      "outputs": [
        {
          "data": {
            "text/html": [
              "\n",
              "  <div id=\"df-8ea1b7c3-e7b0-40a2-871c-69b6fb7a2192\">\n",
              "    <div class=\"colab-df-container\">\n",
              "      <div>\n",
              "<style scoped>\n",
              "    .dataframe tbody tr th:only-of-type {\n",
              "        vertical-align: middle;\n",
              "    }\n",
              "\n",
              "    .dataframe tbody tr th {\n",
              "        vertical-align: top;\n",
              "    }\n",
              "\n",
              "    .dataframe thead th {\n",
              "        text-align: right;\n",
              "    }\n",
              "</style>\n",
              "<table border=\"1\" class=\"dataframe\">\n",
              "  <thead>\n",
              "    <tr style=\"text-align: right;\">\n",
              "      <th></th>\n",
              "      <th>ListingKey</th>\n",
              "      <th>ListingNumber</th>\n",
              "      <th>ListingCreationDate</th>\n",
              "      <th>CreditGrade</th>\n",
              "      <th>Term</th>\n",
              "      <th>LoanStatus</th>\n",
              "      <th>ClosedDate</th>\n",
              "      <th>BorrowerAPR</th>\n",
              "      <th>BorrowerRate</th>\n",
              "      <th>LenderYield</th>\n",
              "      <th>...</th>\n",
              "      <th>LP_ServiceFees</th>\n",
              "      <th>LP_CollectionFees</th>\n",
              "      <th>LP_GrossPrincipalLoss</th>\n",
              "      <th>LP_NetPrincipalLoss</th>\n",
              "      <th>LP_NonPrincipalRecoverypayments</th>\n",
              "      <th>PercentFunded</th>\n",
              "      <th>Recommendations</th>\n",
              "      <th>InvestmentFromFriendsCount</th>\n",
              "      <th>InvestmentFromFriendsAmount</th>\n",
              "      <th>Investors</th>\n",
              "    </tr>\n",
              "  </thead>\n",
              "  <tbody>\n",
              "    <tr>\n",
              "      <th>0</th>\n",
              "      <td>1021339766868145413AB3B</td>\n",
              "      <td>193129</td>\n",
              "      <td>2007-08-26 19:09:29.263000000</td>\n",
              "      <td>C</td>\n",
              "      <td>36</td>\n",
              "      <td>Completed</td>\n",
              "      <td>2009-08-14 00:00:00</td>\n",
              "      <td>0.16516</td>\n",
              "      <td>0.1580</td>\n",
              "      <td>0.1380</td>\n",
              "      <td>...</td>\n",
              "      <td>-133.18</td>\n",
              "      <td>0.0</td>\n",
              "      <td>0.0</td>\n",
              "      <td>0.0</td>\n",
              "      <td>0.0</td>\n",
              "      <td>1.0</td>\n",
              "      <td>0.0</td>\n",
              "      <td>0.0</td>\n",
              "      <td>0.0</td>\n",
              "      <td>258.0</td>\n",
              "    </tr>\n",
              "    <tr>\n",
              "      <th>1</th>\n",
              "      <td>10273602499503308B223C1</td>\n",
              "      <td>1209647</td>\n",
              "      <td>2014-02-27 08:28:07.900000000</td>\n",
              "      <td>NaN</td>\n",
              "      <td>36</td>\n",
              "      <td>Current</td>\n",
              "      <td>NaN</td>\n",
              "      <td>0.12016</td>\n",
              "      <td>0.0920</td>\n",
              "      <td>0.0820</td>\n",
              "      <td>...</td>\n",
              "      <td>0.00</td>\n",
              "      <td>0.0</td>\n",
              "      <td>0.0</td>\n",
              "      <td>0.0</td>\n",
              "      <td>0.0</td>\n",
              "      <td>1.0</td>\n",
              "      <td>0.0</td>\n",
              "      <td>0.0</td>\n",
              "      <td>0.0</td>\n",
              "      <td>1.0</td>\n",
              "    </tr>\n",
              "    <tr>\n",
              "      <th>2</th>\n",
              "      <td>0EE9337825851032864889A</td>\n",
              "      <td>81716</td>\n",
              "      <td>2007-01-05 15:00:47.090000000</td>\n",
              "      <td>HR</td>\n",
              "      <td>36</td>\n",
              "      <td>Completed</td>\n",
              "      <td>2009-12-17 00:00:00</td>\n",
              "      <td>0.28269</td>\n",
              "      <td>0.2750</td>\n",
              "      <td>0.2400</td>\n",
              "      <td>...</td>\n",
              "      <td>-24.20</td>\n",
              "      <td>0.0</td>\n",
              "      <td>0.0</td>\n",
              "      <td>0.0</td>\n",
              "      <td>0.0</td>\n",
              "      <td>1.0</td>\n",
              "      <td>0.0</td>\n",
              "      <td>0.0</td>\n",
              "      <td>0.0</td>\n",
              "      <td>41.0</td>\n",
              "    </tr>\n",
              "    <tr>\n",
              "      <th>3</th>\n",
              "      <td>0EF5356002482715299901A</td>\n",
              "      <td>658116</td>\n",
              "      <td>2012-10-22 11:02:35.010000000</td>\n",
              "      <td>NaN</td>\n",
              "      <td>36</td>\n",
              "      <td>Current</td>\n",
              "      <td>NaN</td>\n",
              "      <td>0.12528</td>\n",
              "      <td>0.0974</td>\n",
              "      <td>0.0874</td>\n",
              "      <td>...</td>\n",
              "      <td>-108.01</td>\n",
              "      <td>0.0</td>\n",
              "      <td>0.0</td>\n",
              "      <td>0.0</td>\n",
              "      <td>0.0</td>\n",
              "      <td>1.0</td>\n",
              "      <td>0.0</td>\n",
              "      <td>0.0</td>\n",
              "      <td>0.0</td>\n",
              "      <td>158.0</td>\n",
              "    </tr>\n",
              "    <tr>\n",
              "      <th>4</th>\n",
              "      <td>0F023589499656230C5E3E2</td>\n",
              "      <td>909464</td>\n",
              "      <td>2013-09-14 18:38:39.097000000</td>\n",
              "      <td>NaN</td>\n",
              "      <td>36</td>\n",
              "      <td>Current</td>\n",
              "      <td>NaN</td>\n",
              "      <td>0.24614</td>\n",
              "      <td>0.2085</td>\n",
              "      <td>0.1985</td>\n",
              "      <td>...</td>\n",
              "      <td>-60.27</td>\n",
              "      <td>0.0</td>\n",
              "      <td>0.0</td>\n",
              "      <td>0.0</td>\n",
              "      <td>0.0</td>\n",
              "      <td>1.0</td>\n",
              "      <td>0.0</td>\n",
              "      <td>0.0</td>\n",
              "      <td>0.0</td>\n",
              "      <td>20.0</td>\n",
              "    </tr>\n",
              "  </tbody>\n",
              "</table>\n",
              "<p>5 rows × 81 columns</p>\n",
              "</div>\n",
              "      <button class=\"colab-df-convert\" onclick=\"convertToInteractive('df-8ea1b7c3-e7b0-40a2-871c-69b6fb7a2192')\"\n",
              "              title=\"Convert this dataframe to an interactive table.\"\n",
              "              style=\"display:none;\">\n",
              "        \n",
              "  <svg xmlns=\"http://www.w3.org/2000/svg\" height=\"24px\"viewBox=\"0 0 24 24\"\n",
              "       width=\"24px\">\n",
              "    <path d=\"M0 0h24v24H0V0z\" fill=\"none\"/>\n",
              "    <path d=\"M18.56 5.44l.94 2.06.94-2.06 2.06-.94-2.06-.94-.94-2.06-.94 2.06-2.06.94zm-11 1L8.5 8.5l.94-2.06 2.06-.94-2.06-.94L8.5 2.5l-.94 2.06-2.06.94zm10 10l.94 2.06.94-2.06 2.06-.94-2.06-.94-.94-2.06-.94 2.06-2.06.94z\"/><path d=\"M17.41 7.96l-1.37-1.37c-.4-.4-.92-.59-1.43-.59-.52 0-1.04.2-1.43.59L10.3 9.45l-7.72 7.72c-.78.78-.78 2.05 0 2.83L4 21.41c.39.39.9.59 1.41.59.51 0 1.02-.2 1.41-.59l7.78-7.78 2.81-2.81c.8-.78.8-2.07 0-2.86zM5.41 20L4 18.59l7.72-7.72 1.47 1.35L5.41 20z\"/>\n",
              "  </svg>\n",
              "      </button>\n",
              "      \n",
              "  <style>\n",
              "    .colab-df-container {\n",
              "      display:flex;\n",
              "      flex-wrap:wrap;\n",
              "      gap: 12px;\n",
              "    }\n",
              "\n",
              "    .colab-df-convert {\n",
              "      background-color: #E8F0FE;\n",
              "      border: none;\n",
              "      border-radius: 50%;\n",
              "      cursor: pointer;\n",
              "      display: none;\n",
              "      fill: #1967D2;\n",
              "      height: 32px;\n",
              "      padding: 0 0 0 0;\n",
              "      width: 32px;\n",
              "    }\n",
              "\n",
              "    .colab-df-convert:hover {\n",
              "      background-color: #E2EBFA;\n",
              "      box-shadow: 0px 1px 2px rgba(60, 64, 67, 0.3), 0px 1px 3px 1px rgba(60, 64, 67, 0.15);\n",
              "      fill: #174EA6;\n",
              "    }\n",
              "\n",
              "    [theme=dark] .colab-df-convert {\n",
              "      background-color: #3B4455;\n",
              "      fill: #D2E3FC;\n",
              "    }\n",
              "\n",
              "    [theme=dark] .colab-df-convert:hover {\n",
              "      background-color: #434B5C;\n",
              "      box-shadow: 0px 1px 3px 1px rgba(0, 0, 0, 0.15);\n",
              "      filter: drop-shadow(0px 1px 2px rgba(0, 0, 0, 0.3));\n",
              "      fill: #FFFFFF;\n",
              "    }\n",
              "  </style>\n",
              "\n",
              "      <script>\n",
              "        const buttonEl =\n",
              "          document.querySelector('#df-8ea1b7c3-e7b0-40a2-871c-69b6fb7a2192 button.colab-df-convert');\n",
              "        buttonEl.style.display =\n",
              "          google.colab.kernel.accessAllowed ? 'block' : 'none';\n",
              "\n",
              "        async function convertToInteractive(key) {\n",
              "          const element = document.querySelector('#df-8ea1b7c3-e7b0-40a2-871c-69b6fb7a2192');\n",
              "          const dataTable =\n",
              "            await google.colab.kernel.invokeFunction('convertToInteractive',\n",
              "                                                     [key], {});\n",
              "          if (!dataTable) return;\n",
              "\n",
              "          const docLinkHtml = 'Like what you see? Visit the ' +\n",
              "            '<a target=\"_blank\" href=https://colab.research.google.com/notebooks/data_table.ipynb>data table notebook</a>'\n",
              "            + ' to learn more about interactive tables.';\n",
              "          element.innerHTML = '';\n",
              "          dataTable['output_type'] = 'display_data';\n",
              "          await google.colab.output.renderOutput(dataTable, element);\n",
              "          const docLink = document.createElement('div');\n",
              "          docLink.innerHTML = docLinkHtml;\n",
              "          element.appendChild(docLink);\n",
              "        }\n",
              "      </script>\n",
              "    </div>\n",
              "  </div>\n",
              "  "
            ],
            "text/plain": [
              "                ListingKey  ListingNumber            ListingCreationDate  \\\n",
              "0  1021339766868145413AB3B         193129  2007-08-26 19:09:29.263000000   \n",
              "1  10273602499503308B223C1        1209647  2014-02-27 08:28:07.900000000   \n",
              "2  0EE9337825851032864889A          81716  2007-01-05 15:00:47.090000000   \n",
              "3  0EF5356002482715299901A         658116  2012-10-22 11:02:35.010000000   \n",
              "4  0F023589499656230C5E3E2         909464  2013-09-14 18:38:39.097000000   \n",
              "\n",
              "  CreditGrade  Term LoanStatus           ClosedDate  BorrowerAPR  \\\n",
              "0           C    36  Completed  2009-08-14 00:00:00      0.16516   \n",
              "1         NaN    36    Current                  NaN      0.12016   \n",
              "2          HR    36  Completed  2009-12-17 00:00:00      0.28269   \n",
              "3         NaN    36    Current                  NaN      0.12528   \n",
              "4         NaN    36    Current                  NaN      0.24614   \n",
              "\n",
              "   BorrowerRate  LenderYield  ...  LP_ServiceFees  LP_CollectionFees  \\\n",
              "0        0.1580       0.1380  ...         -133.18                0.0   \n",
              "1        0.0920       0.0820  ...            0.00                0.0   \n",
              "2        0.2750       0.2400  ...          -24.20                0.0   \n",
              "3        0.0974       0.0874  ...         -108.01                0.0   \n",
              "4        0.2085       0.1985  ...          -60.27                0.0   \n",
              "\n",
              "   LP_GrossPrincipalLoss  LP_NetPrincipalLoss LP_NonPrincipalRecoverypayments  \\\n",
              "0                    0.0                  0.0                             0.0   \n",
              "1                    0.0                  0.0                             0.0   \n",
              "2                    0.0                  0.0                             0.0   \n",
              "3                    0.0                  0.0                             0.0   \n",
              "4                    0.0                  0.0                             0.0   \n",
              "\n",
              "   PercentFunded  Recommendations InvestmentFromFriendsCount  \\\n",
              "0            1.0              0.0                        0.0   \n",
              "1            1.0              0.0                        0.0   \n",
              "2            1.0              0.0                        0.0   \n",
              "3            1.0              0.0                        0.0   \n",
              "4            1.0              0.0                        0.0   \n",
              "\n",
              "  InvestmentFromFriendsAmount Investors  \n",
              "0                         0.0     258.0  \n",
              "1                         0.0       1.0  \n",
              "2                         0.0      41.0  \n",
              "3                         0.0     158.0  \n",
              "4                         0.0      20.0  \n",
              "\n",
              "[5 rows x 81 columns]"
            ]
          },
          "execution_count": 13,
          "metadata": {},
          "output_type": "execute_result"
        }
      ],
      "source": [
        "df.head()"
      ]
    },
    {
      "cell_type": "code",
      "execution_count": 3,
      "metadata": {
        "colab": {
          "base_uri": "https://localhost:8080/"
        },
        "id": "kvFkv7-1g2v_",
        "outputId": "2ec136fa-70f1-46c0-a2dd-8b3b01dc3526"
      },
      "outputs": [
        {
          "ename": "NameError",
          "evalue": "name 'df' is not defined",
          "output_type": "error",
          "traceback": [
            "\u001b[1;31m---------------------------------------------------------------------------\u001b[0m",
            "\u001b[1;31mNameError\u001b[0m                                 Traceback (most recent call last)",
            "\u001b[1;32mc:\\Users\\Aashutosh Sinha\\OneDrive\\Desktop\\3rd-Year\\WRL\\EDA_Presentation\\Prosper_Data_EDA_Questions.ipynb Cell 9\u001b[0m in \u001b[0;36m<cell line: 1>\u001b[1;34m()\u001b[0m\n\u001b[1;32m----> <a href='vscode-notebook-cell:/c%3A/Users/Aashutosh%20Sinha/OneDrive/Desktop/3rd-Year/WRL/EDA_Presentation/Prosper_Data_EDA_Questions.ipynb#X11sZmlsZQ%3D%3D?line=0'>1</a>\u001b[0m df\u001b[39m.\u001b[39minfo()\n",
            "\u001b[1;31mNameError\u001b[0m: name 'df' is not defined"
          ]
        }
      ],
      "source": [
        "df.info()"
      ]
    },
    {
      "cell_type": "markdown",
      "metadata": {
        "id": "dE1DAs36EVWc"
      },
      "source": [
        "Research Question 1 : **What are the most number of borrowers Credit\n",
        "Grade?** \n"
      ]
    },
    {
      "cell_type": "code",
      "execution_count": 4,
      "metadata": {
        "colab": {
          "base_uri": "https://localhost:8080/",
          "height": 282
        },
        "id": "kL29DRa5GcBV",
        "outputId": "31299186-2b0e-477d-f8c7-eefe3c29ae66"
      },
      "outputs": [
        {
          "ename": "NameError",
          "evalue": "name 'df' is not defined",
          "output_type": "error",
          "traceback": [
            "\u001b[1;31m---------------------------------------------------------------------------\u001b[0m",
            "\u001b[1;31mNameError\u001b[0m                                 Traceback (most recent call last)",
            "\u001b[1;32mc:\\Users\\Aashutosh Sinha\\OneDrive\\Desktop\\3rd-Year\\WRL\\EDA_Presentation\\Prosper_Data_EDA_Questions.ipynb Cell 11\u001b[0m in \u001b[0;36m<cell line: 2>\u001b[1;34m()\u001b[0m\n\u001b[0;32m      <a href='vscode-notebook-cell:/c%3A/Users/Aashutosh%20Sinha/OneDrive/Desktop/3rd-Year/WRL/EDA_Presentation/Prosper_Data_EDA_Questions.ipynb#X13sZmlsZQ%3D%3D?line=0'>1</a>\u001b[0m \u001b[39m# Check the univariate relationship of Credit Grade\u001b[39;00m\n\u001b[1;32m----> <a href='vscode-notebook-cell:/c%3A/Users/Aashutosh%20Sinha/OneDrive/Desktop/3rd-Year/WRL/EDA_Presentation/Prosper_Data_EDA_Questions.ipynb#X13sZmlsZQ%3D%3D?line=1'>2</a>\u001b[0m df[\u001b[39m'\u001b[39m\u001b[39mCreditGrade\u001b[39m\u001b[39m'\u001b[39m]\u001b[39m.\u001b[39mhist(bins\u001b[39m=\u001b[39m\u001b[39m100\u001b[39m)\n",
            "\u001b[1;31mNameError\u001b[0m: name 'df' is not defined"
          ]
        }
      ],
      "source": [
        "# Check the univariate relationship of Credit Grade\n",
        "df['CreditGrade'].hist(bins=100)"
      ]
    },
    {
      "cell_type": "markdown",
      "metadata": {
        "id": "LqqqtiysEl3z"
      },
      "source": [
        "Research Question 2 : **Since there are so much low Credit Grade such\n",
        "as C and D , does it lead to a higher amount of deliquency?** "
      ]
    },
    {
      "cell_type": "code",
      "execution_count": 5,
      "metadata": {
        "colab": {
          "base_uri": "https://localhost:8080/",
          "height": 328
        },
        "id": "TAueYotRGaDm",
        "outputId": "c2f54075-4725-4755-cf14-4f4dcdee1744"
      },
      "outputs": [
        {
          "ename": "NameError",
          "evalue": "name 'df' is not defined",
          "output_type": "error",
          "traceback": [
            "\u001b[1;31m---------------------------------------------------------------------------\u001b[0m",
            "\u001b[1;31mNameError\u001b[0m                                 Traceback (most recent call last)",
            "\u001b[1;32mc:\\Users\\Aashutosh Sinha\\OneDrive\\Desktop\\3rd-Year\\WRL\\EDA_Presentation\\Prosper_Data_EDA_Questions.ipynb Cell 13\u001b[0m in \u001b[0;36m<cell line: 4>\u001b[1;34m()\u001b[0m\n\u001b[0;32m      <a href='vscode-notebook-cell:/c%3A/Users/Aashutosh%20Sinha/OneDrive/Desktop/3rd-Year/WRL/EDA_Presentation/Prosper_Data_EDA_Questions.ipynb#X15sZmlsZQ%3D%3D?line=1'>2</a>\u001b[0m sns\u001b[39m.\u001b[39mset(rc\u001b[39m=\u001b[39m{\u001b[39m'\u001b[39m\u001b[39mfigure.figsize\u001b[39m\u001b[39m'\u001b[39m:(\u001b[39m27.7\u001b[39m,\u001b[39m5.27\u001b[39m)})\n\u001b[0;32m      <a href='vscode-notebook-cell:/c%3A/Users/Aashutosh%20Sinha/OneDrive/Desktop/3rd-Year/WRL/EDA_Presentation/Prosper_Data_EDA_Questions.ipynb#X15sZmlsZQ%3D%3D?line=2'>3</a>\u001b[0m sns\u001b[39m.\u001b[39mset_style(\u001b[39m\"\u001b[39m\u001b[39mwhitegrid\u001b[39m\u001b[39m\"\u001b[39m)\n\u001b[1;32m----> <a href='vscode-notebook-cell:/c%3A/Users/Aashutosh%20Sinha/OneDrive/Desktop/3rd-Year/WRL/EDA_Presentation/Prosper_Data_EDA_Questions.ipynb#X15sZmlsZQ%3D%3D?line=3'>4</a>\u001b[0m sns\u001b[39m.\u001b[39mcountplot(x\u001b[39m=\u001b[39m\u001b[39m'\u001b[39m\u001b[39mLoanStatus\u001b[39m\u001b[39m'\u001b[39m,data\u001b[39m=\u001b[39mdf)\n",
            "\u001b[1;31mNameError\u001b[0m: name 'df' is not defined"
          ]
        }
      ],
      "source": [
        "# Check the univariate relationship of Loan Status\n",
        "sns.set(rc={'figure.figsize':(27.7,5.27)})\n",
        "sns.set_style(\"whitegrid\")\n",
        "sns.countplot(x='LoanStatus',data=df)"
      ]
    },
    {
      "cell_type": "markdown",
      "metadata": {
        "id": "LNLXd2_cEK93"
      },
      "source": [
        "Research Question 3 : **What is the highest number of BorrowerRate?** "
      ]
    },
    {
      "cell_type": "code",
      "execution_count": 6,
      "metadata": {
        "colab": {
          "base_uri": "https://localhost:8080/",
          "height": 319
        },
        "id": "lJQXFhHbGYcB",
        "outputId": "b9cd951a-75ac-4b0d-d35d-bdbf5ef70f0e"
      },
      "outputs": [
        {
          "ename": "NameError",
          "evalue": "name 'df' is not defined",
          "output_type": "error",
          "traceback": [
            "\u001b[1;31m---------------------------------------------------------------------------\u001b[0m",
            "\u001b[1;31mNameError\u001b[0m                                 Traceback (most recent call last)",
            "\u001b[1;32mc:\\Users\\Aashutosh Sinha\\OneDrive\\Desktop\\3rd-Year\\WRL\\EDA_Presentation\\Prosper_Data_EDA_Questions.ipynb Cell 15\u001b[0m in \u001b[0;36m<cell line: 2>\u001b[1;34m()\u001b[0m\n\u001b[0;32m      <a href='vscode-notebook-cell:/c%3A/Users/Aashutosh%20Sinha/OneDrive/Desktop/3rd-Year/WRL/EDA_Presentation/Prosper_Data_EDA_Questions.ipynb#X20sZmlsZQ%3D%3D?line=0'>1</a>\u001b[0m \u001b[39m# Check the univariate relationship of Borrower rate\u001b[39;00m\n\u001b[1;32m----> <a href='vscode-notebook-cell:/c%3A/Users/Aashutosh%20Sinha/OneDrive/Desktop/3rd-Year/WRL/EDA_Presentation/Prosper_Data_EDA_Questions.ipynb#X20sZmlsZQ%3D%3D?line=1'>2</a>\u001b[0m df[\u001b[39m'\u001b[39m\u001b[39mBorrowerRate\u001b[39m\u001b[39m'\u001b[39m]\u001b[39m.\u001b[39mhist(bins\u001b[39m=\u001b[39m\u001b[39m100\u001b[39m)\n",
            "\u001b[1;31mNameError\u001b[0m: name 'df' is not defined"
          ]
        }
      ],
      "source": [
        "# Check the univariate relationship of Borrower rate\n",
        "df['BorrowerRate'].hist(bins=100)"
      ]
    },
    {
      "cell_type": "markdown",
      "metadata": {
        "id": "Qu46Z-rSFAeQ"
      },
      "source": [
        "Research Question 4 : **Since the highest number of Borrower Rate\n",
        "is between 0.1 and 0.2, does the highest number of Lender Yield is\n",
        "between 0.1 and 0.2?** "
      ]
    },
    {
      "cell_type": "code",
      "execution_count": 7,
      "metadata": {
        "colab": {
          "base_uri": "https://localhost:8080/",
          "height": 319
        },
        "id": "0-UOcyIYGWgZ",
        "outputId": "c901a3b5-f02e-4822-8090-76cbe3e85a01"
      },
      "outputs": [
        {
          "ename": "NameError",
          "evalue": "name 'df' is not defined",
          "output_type": "error",
          "traceback": [
            "\u001b[1;31m---------------------------------------------------------------------------\u001b[0m",
            "\u001b[1;31mNameError\u001b[0m                                 Traceback (most recent call last)",
            "\u001b[1;32mc:\\Users\\Aashutosh Sinha\\OneDrive\\Desktop\\3rd-Year\\WRL\\EDA_Presentation\\Prosper_Data_EDA_Questions.ipynb Cell 17\u001b[0m in \u001b[0;36m<cell line: 2>\u001b[1;34m()\u001b[0m\n\u001b[0;32m      <a href='vscode-notebook-cell:/c%3A/Users/Aashutosh%20Sinha/OneDrive/Desktop/3rd-Year/WRL/EDA_Presentation/Prosper_Data_EDA_Questions.ipynb#X22sZmlsZQ%3D%3D?line=0'>1</a>\u001b[0m \u001b[39m# Check the univariate relationship of Lender Yield on Loan\u001b[39;00m\n\u001b[1;32m----> <a href='vscode-notebook-cell:/c%3A/Users/Aashutosh%20Sinha/OneDrive/Desktop/3rd-Year/WRL/EDA_Presentation/Prosper_Data_EDA_Questions.ipynb#X22sZmlsZQ%3D%3D?line=1'>2</a>\u001b[0m df[\u001b[39m'\u001b[39m\u001b[39mLenderYield\u001b[39m\u001b[39m'\u001b[39m]\u001b[39m.\u001b[39mhist(bins\u001b[39m=\u001b[39m\u001b[39m100\u001b[39m)\n",
            "\u001b[1;31mNameError\u001b[0m: name 'df' is not defined"
          ]
        }
      ],
      "source": [
        "# Check the univariate relationship of Lender Yield on Loan\n",
        "df['LenderYield'].hist(bins=100)"
      ]
    },
    {
      "cell_type": "markdown",
      "metadata": {
        "id": "umJcaSGiFKRY"
      },
      "source": [
        "Research Question 5 : **Is the Credit Grade really accurate? Does\n",
        "higher Credit Grade leads to higher Monthly Loan Payment? As for\n",
        "Higher Credit Grade we mean from Grade AA to B** "
      ]
    },
    {
      "cell_type": "code",
      "execution_count": 8,
      "metadata": {
        "colab": {
          "base_uri": "https://localhost:8080/",
          "height": 355
        },
        "id": "keGLVeGcGUWv",
        "outputId": "cfe69fe4-594e-48bb-871b-53f63bca4dfe"
      },
      "outputs": [
        {
          "ename": "NameError",
          "evalue": "name 'df' is not defined",
          "output_type": "error",
          "traceback": [
            "\u001b[1;31m---------------------------------------------------------------------------\u001b[0m",
            "\u001b[1;31mNameError\u001b[0m                                 Traceback (most recent call last)",
            "\u001b[1;32mc:\\Users\\Aashutosh Sinha\\OneDrive\\Desktop\\3rd-Year\\WRL\\EDA_Presentation\\Prosper_Data_EDA_Questions.ipynb Cell 19\u001b[0m in \u001b[0;36m<cell line: 5>\u001b[1;34m()\u001b[0m\n\u001b[0;32m      <a href='vscode-notebook-cell:/c%3A/Users/Aashutosh%20Sinha/OneDrive/Desktop/3rd-Year/WRL/EDA_Presentation/Prosper_Data_EDA_Questions.ipynb#X24sZmlsZQ%3D%3D?line=2'>3</a>\u001b[0m plt\u001b[39m.\u001b[39mfigure(figsize \u001b[39m=\u001b[39m [\u001b[39m20\u001b[39m, \u001b[39m5\u001b[39m])\n\u001b[0;32m      <a href='vscode-notebook-cell:/c%3A/Users/Aashutosh%20Sinha/OneDrive/Desktop/3rd-Year/WRL/EDA_Presentation/Prosper_Data_EDA_Questions.ipynb#X24sZmlsZQ%3D%3D?line=3'>4</a>\u001b[0m plt\u001b[39m.\u001b[39msubplot(\u001b[39m1\u001b[39m, \u001b[39m2\u001b[39m, \u001b[39m2\u001b[39m)\n\u001b[1;32m----> <a href='vscode-notebook-cell:/c%3A/Users/Aashutosh%20Sinha/OneDrive/Desktop/3rd-Year/WRL/EDA_Presentation/Prosper_Data_EDA_Questions.ipynb#X24sZmlsZQ%3D%3D?line=4'>5</a>\u001b[0m sns\u001b[39m.\u001b[39mboxplot(data\u001b[39m=\u001b[39mdf,x\u001b[39m=\u001b[39m\u001b[39m'\u001b[39m\u001b[39mCreditGrade\u001b[39m\u001b[39m'\u001b[39m,y\u001b[39m=\u001b[39m\u001b[39m'\u001b[39m\u001b[39mMonthlyLoanPayment\u001b[39m\u001b[39m'\u001b[39m,color\u001b[39m=\u001b[39mbase_color);\n\u001b[0;32m      <a href='vscode-notebook-cell:/c%3A/Users/Aashutosh%20Sinha/OneDrive/Desktop/3rd-Year/WRL/EDA_Presentation/Prosper_Data_EDA_Questions.ipynb#X24sZmlsZQ%3D%3D?line=5'>6</a>\u001b[0m plt\u001b[39m.\u001b[39mxlabel(\u001b[39m'\u001b[39m\u001b[39mCreditGrade\u001b[39m\u001b[39m'\u001b[39m);\n\u001b[0;32m      <a href='vscode-notebook-cell:/c%3A/Users/Aashutosh%20Sinha/OneDrive/Desktop/3rd-Year/WRL/EDA_Presentation/Prosper_Data_EDA_Questions.ipynb#X24sZmlsZQ%3D%3D?line=6'>7</a>\u001b[0m plt\u001b[39m.\u001b[39mylabel(\u001b[39m'\u001b[39m\u001b[39mMonthly Loan Payment\u001b[39m\u001b[39m'\u001b[39m);\n",
            "\u001b[1;31mNameError\u001b[0m: name 'df' is not defined"
          ]
        },
        {
          "data": {
            "image/png": "[encoded data removed]",
            "text/plain": [
              "<Figure size 1440x360 with 1 Axes>"
            ]
          },
          "metadata": {},
          "output_type": "display_data"
        }
      ],
      "source": [
        "# Check the Bivariate Relationship between CreditGarde and MonthlyLoan Payment\n",
        "base_color = sns.color_palette()[2]\n",
        "plt.figure(figsize = [20, 5])\n",
        "plt.subplot(1, 2, 2)\n",
        "sns.boxplot(data=df,x='CreditGrade',y='MonthlyLoanPayment',color=base_color);\n",
        "plt.xlabel('CreditGrade');\n",
        "plt.ylabel('Monthly Loan Payment');\n",
        "plt.title(' Relationship between Creditgrade and MonthlyLoan Payment');"
      ]
    },
    {
      "cell_type": "markdown",
      "metadata": {
        "id": "czfpfUXYFUze"
      },
      "source": [
        "Research Question 6 : **Here we look at the Completed Loan Status\n",
        "and Defaulted Rate to determine the accuracy of Credit Grade.**"
      ]
    },
    {
      "cell_type": "code",
      "execution_count": null,
      "metadata": {
        "id": "hONXlqqAGSun"
      },
      "outputs": [],
      "source": [
        "# Check the Bivariate Relatonship between CreditGrade and LoanStatus\n"
      ]
    },
    {
      "cell_type": "markdown",
      "metadata": {
        "id": "fDlhCflDFbEz"
      },
      "source": [
        "Research Question 7 : **Now we know the Credit Grade is accurate\n",
        "and is a tool that is used by the organization in determining the\n",
        "person’s creditworthiness. Now we need to understand does the\n",
        "ProsperScore, the custom built risk assesment system is being used\n",
        "in determing borrower’s rate?**"
      ]
    },
    {
      "cell_type": "markdown",
      "metadata": {
        "id": "zgAH9UvsGGIU"
      },
      "source": [
        "From a theoretical standpoint, if the higher ProsperScore leads to lower Borrower Rate and Borrower Annual Percentage Rate that means the Prosper Score is being used alongside the Credit Grade in determing a person’s creditworthiness."
      ]
    },
    {
      "cell_type": "code",
      "execution_count": 9,
      "metadata": {
        "colab": {
          "base_uri": "https://localhost:8080/",
          "height": 382
        },
        "id": "1Qcz0pd9GPqs",
        "outputId": "6a7cca66-278b-4b2a-eefa-59aa152840cb"
      },
      "outputs": [
        {
          "ename": "NameError",
          "evalue": "name 'df' is not defined",
          "output_type": "error",
          "traceback": [
            "\u001b[1;31m---------------------------------------------------------------------------\u001b[0m",
            "\u001b[1;31mNameError\u001b[0m                                 Traceback (most recent call last)",
            "\u001b[1;32mc:\\Users\\Aashutosh Sinha\\OneDrive\\Desktop\\3rd-Year\\WRL\\EDA_Presentation\\Prosper_Data_EDA_Questions.ipynb Cell 24\u001b[0m in \u001b[0;36m<cell line: 2>\u001b[1;34m()\u001b[0m\n\u001b[0;32m      <a href='vscode-notebook-cell:/c%3A/Users/Aashutosh%20Sinha/OneDrive/Desktop/3rd-Year/WRL/EDA_Presentation/Prosper_Data_EDA_Questions.ipynb#X32sZmlsZQ%3D%3D?line=0'>1</a>\u001b[0m \u001b[39m# Check the Multivariate Relationship between BorrowerRate and BorrowerAPR.\u001b[39;00m\n\u001b[1;32m----> <a href='vscode-notebook-cell:/c%3A/Users/Aashutosh%20Sinha/OneDrive/Desktop/3rd-Year/WRL/EDA_Presentation/Prosper_Data_EDA_Questions.ipynb#X32sZmlsZQ%3D%3D?line=1'>2</a>\u001b[0m g \u001b[39m=\u001b[39m sb\u001b[39m.\u001b[39mFacetGrid(data \u001b[39m=\u001b[39m df, col \u001b[39m=\u001b[39m \u001b[39m'\u001b[39m\u001b[39mTerm\u001b[39m\u001b[39m'\u001b[39m, height \u001b[39m=\u001b[39m \u001b[39m5\u001b[39m,\n\u001b[0;32m      <a href='vscode-notebook-cell:/c%3A/Users/Aashutosh%20Sinha/OneDrive/Desktop/3rd-Year/WRL/EDA_Presentation/Prosper_Data_EDA_Questions.ipynb#X32sZmlsZQ%3D%3D?line=2'>3</a>\u001b[0m                 margin_titles \u001b[39m=\u001b[39m \u001b[39mTrue\u001b[39;00m)\n\u001b[0;32m      <a href='vscode-notebook-cell:/c%3A/Users/Aashutosh%20Sinha/OneDrive/Desktop/3rd-Year/WRL/EDA_Presentation/Prosper_Data_EDA_Questions.ipynb#X32sZmlsZQ%3D%3D?line=3'>4</a>\u001b[0m g\u001b[39m.\u001b[39mmap(plt\u001b[39m.\u001b[39mscatter, \u001b[39m'\u001b[39m\u001b[39mBorrowerRate\u001b[39m\u001b[39m'\u001b[39m, \u001b[39m'\u001b[39m\u001b[39mBorrowerAPR\u001b[39m\u001b[39m'\u001b[39m);\n\u001b[0;32m      <a href='vscode-notebook-cell:/c%3A/Users/Aashutosh%20Sinha/OneDrive/Desktop/3rd-Year/WRL/EDA_Presentation/Prosper_Data_EDA_Questions.ipynb#X32sZmlsZQ%3D%3D?line=4'>5</a>\u001b[0m plt\u001b[39m.\u001b[39mcolorbar()\n",
            "\u001b[1;31mNameError\u001b[0m: name 'df' is not defined"
          ]
        }
      ],
      "source": [
        "# Check the Multivariate Relationship between BorrowerRate and BorrowerAPR.\n",
        "g = sb.FacetGrid(data = df, col = 'Term', height = 5,\n",
        "                margin_titles = True)\n",
        "g.map(plt.scatter, 'BorrowerRate', 'BorrowerAPR');\n",
        "plt.colorbar()"
      ]
    },
    {
      "cell_type": "markdown",
      "metadata": {
        "id": "xiVB6cgjFtVr"
      },
      "source": [
        "**Business Insight**"
      ]
    },
    {
      "cell_type": "markdown",
      "metadata": {
        "id": "iy02VvcoF8yw"
      },
      "source": [
        "Since the most important assest of a P2P lending Organization is its ability in using its tool to determine a borrower’s creditworthiness as accurate as possible. The organization would be more confident to market its organization as a great investment for investor to invest in hence leading to more borrower and higher market capitilization and boost revenue growth."
      ]
    }
  ],
  "metadata": {
    "colab": {
      "name": " Prosper Data EDA Questions",
      "provenance": []
    },
    "kernelspec": {
      "display_name": "Python 3.9.12 ('base')",
      "language": "python",
      "name": "python3"
    },
    "language_info": {
      "codemirror_mode": {
        "name": "ipython",
        "version": 3
      },
      "file_extension": ".py",
      "mimetype": "text/x-python",
      "name": "python",
      "nbconvert_exporter": "python",
      "pygments_lexer": "ipython3",
      "version": "3.9.12"
    },
    "vscode": {
      "interpreter": {
        "hash": "6f5583cf1d9466b5c27e75c89cc6b383bed5736d6b16c51c8074d8690011a952"
      }
    }
  },
  "nbformat": 4,
  "nbformat_minor": 0
}
